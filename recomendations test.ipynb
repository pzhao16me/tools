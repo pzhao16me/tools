{
 "cells": [
  {
   "cell_type": "code",
   "execution_count": 2,
   "metadata": {
    "collapsed": true
   },
   "outputs": [],
   "source": [
    "critics={'Lisa Rose': {'Lady in the Water': 2.5, 'Snakes on a Plane': 3.5,\n",
    " 'Just My Luck': 3.0, 'Superman Returns': 3.5, 'You, Me and Dupree': 2.5, \n",
    " 'The Night Listener': 3.0},\n",
    "'Gene Seymour': {'Lady in the Water': 3.0, 'Snakes on a Plane': 3.5, \n",
    " 'Just My Luck': 1.5, 'Superman Returns': 5.0, 'The Night Listener': 3.0, \n",
    " 'You, Me and Dupree': 3.5}, \n",
    "'Michael Phillips': {'Lady in the Water': 2.5, 'Snakes on a Plane': 3.0,\n",
    " 'Superman Returns': 3.5, 'The Night Listener': 4.0},\n",
    "'Claudia Puig': {'Snakes on a Plane': 3.5, 'Just My Luck': 3.0,\n",
    " 'The Night Listener': 4.5, 'Superman Returns': 4.0, \n",
    " 'You, Me and Dupree': 2.5},\n",
    "'Mick LaSalle': {'Lady in the Water': 3.0, 'Snakes on a Plane': 4.0, \n",
    " 'Just My Luck': 2.0, 'Superman Returns': 3.0, 'The Night Listener': 3.0,\n",
    " 'You, Me and Dupree': 2.0}, \n",
    "'Jack Matthews': {'Lady in the Water': 3.0, 'Snakes on a Plane': 4.0,\n",
    " 'The Night Listener': 3.0, 'Superman Returns': 5.0, 'You, Me and Dupree': 3.5},\n",
    "'Toby': {'Snakes on a Plane':4.5,'You, Me and Dupree':1.0,'Superman Returns':4.0}}"
   ]
  },
  {
   "cell_type": "code",
   "execution_count": 3,
   "metadata": {},
   "outputs": [
    {
     "data": {
      "text/plain": [
       "2.5"
      ]
     },
     "execution_count": 3,
     "metadata": {},
     "output_type": "execute_result"
    }
   ],
   "source": [
    "critics[\"Lisa Rose\"][\"Lady in the Water\"]\n"
   ]
  },
  {
   "cell_type": "code",
   "execution_count": 6,
   "metadata": {},
   "outputs": [
    {
     "data": {
      "text/plain": [
       "4.5"
      ]
     },
     "execution_count": 6,
     "metadata": {},
     "output_type": "execute_result"
    }
   ],
   "source": [
    "critics[\"Toby\"][\"Snakes on a Plane\"]"
   ]
  },
  {
   "cell_type": "code",
   "execution_count": 7,
   "metadata": {},
   "outputs": [
    {
     "data": {
      "text/plain": [
       "1.118033988749895"
      ]
     },
     "execution_count": 7,
     "metadata": {},
     "output_type": "execute_result"
    }
   ],
   "source": [
    "#欧几里得距离计算\n",
    "from math import sqrt\n",
    "sqrt(pow(4.5-4,2)+pow(1-2,2))"
   ]
  },
  {
   "cell_type": "code",
   "execution_count": 8,
   "metadata": {},
   "outputs": [
    {
     "data": {
      "text/plain": [
       "0.4721359549995794"
      ]
     },
     "execution_count": 8,
     "metadata": {},
     "output_type": "execute_result"
    }
   ],
   "source": [
    "1/(1+sqrt(pow(4.5-4,2)+ pow(1-2,2)))"
   ]
  },
  {
   "cell_type": "code",
   "execution_count": 9,
   "metadata": {
    "collapsed": true
   },
   "outputs": [],
   "source": [
    "from math import sqrt\n",
    "def sim_distance(prefs,person1,person2):\n",
    "    #得到shared_items 的列表\n",
    "    si = {}\n",
    "    for item in prefs[person1]:\n",
    "        if item in prefs[person2]:\n",
    "            si[item] = 1\n",
    "    if len(si) ==0:return 0\n",
    "    \n",
    "    # 计算所有差值的平方和\n",
    "    sum_of_squares = sum([pow(prefs[person1][item] - prefs[person2][item],2)\n",
    "                         for item in prefs[person1] if item in prefs[person2]])\n",
    "    \n",
    "    return 1/(1+sqrt(sum_of_squares))\n"
   ]
  },
  {
   "cell_type": "code",
   "execution_count": 10,
   "metadata": {},
   "outputs": [
    {
     "data": {
      "text/plain": [
       "0.29429805508554946"
      ]
     },
     "execution_count": 10,
     "metadata": {},
     "output_type": "execute_result"
    }
   ],
   "source": [
    "# example 1 \n",
    "sim_distance(critics,\"Lisa Rose\",\"Gene Seymour\")"
   ]
  },
  {
   "cell_type": "code",
   "execution_count": 17,
   "metadata": {},
   "outputs": [],
   "source": [
    "# 皮尔逊相似度计算函数\n",
    "# 返回p1 和 p2 的皮尔逊相关系数、\n",
    "def sim_person(prefs,p1,p2):\n",
    "    si = {}\n",
    "    for item in prefs[p1]:\n",
    "        if item in prefs[p2]: si[item] = 1\n",
    "    # 得到列表元素的个数\n",
    "    n = len(prefs)\n",
    "    \n",
    "    #如果两者没有共同之处，则返回1\n",
    "    if n== 0: return -1\n",
    "    \n",
    "    #对所有偏好求和\n",
    "    sum1 = sum([prefs[p1][item] for item in si])\n",
    "    sum2 = sum([prefs[p2][item] for item in si])\n",
    "    \n",
    "    # 求平方和\n",
    "    sum1Sq = sum([pow(prefs[p1][item],2) for item in si])\n",
    "    sum2Sq = sum([pow(prefs[p2][item],2) for item in si])\n",
    "    \n",
    "    # 求乘机之和\n",
    "    pSum = sum([prefs[p1][item]* prefs[p2][item] for item in si])\n",
    "    \n",
    "    # 计算皮尔逊的评价值\n",
    "    num = pSum - (sum1*sum2/n)\n",
    "    den = sqrt((sum1Sq -pow(sum1,2)/n)*(sum2Sq -pow(sum2,2)/n))\n",
    "    if den == 0:return 0\n",
    "    r = num/den\n",
    "    return r\n",
    "\n"
   ]
  },
  {
   "cell_type": "code",
   "execution_count": 18,
   "metadata": {},
   "outputs": [
    {
     "data": {
      "text/plain": [
       "0.806983220792075"
      ]
     },
     "execution_count": 18,
     "metadata": {},
     "output_type": "execute_result"
    }
   ],
   "source": [
    "\n",
    "# example 2\n",
    "sim_person(critics,\"Lisa Rose\",\"Gene Seymour\")"
   ]
  },
  {
   "cell_type": "code",
   "execution_count": 19,
   "metadata": {
    "collapsed": true
   },
   "outputs": [],
   "source": [
    "#  从反映偏好的字典中返回最为匹配者\n",
    "# 返回的结果的个数和相似度函数均为可选参数\n",
    "def topMatches(prefs,person,n = 5,similarity = sim_person):\n",
    "    scores = [(similarity(prefs,person,other),other) \n",
    "             for other in prefs if other != person]\n",
    "    #对列表进行排序，评价最高者排在最前面\n",
    "    scores.sort()\n",
    "    scores.reverse()\n",
    "    return scores[:n]"
   ]
  },
  {
   "cell_type": "code",
   "execution_count": 20,
   "metadata": {},
   "outputs": [
    {
     "data": {
      "text/plain": [
       "[(0.987186561133978, 'Michael Phillips'),\n",
       " (0.9603016308185575, 'Mick LaSalle'),\n",
       " (0.9319189883457425, 'Claudia Puig')]"
      ]
     },
     "execution_count": 20,
     "metadata": {},
     "output_type": "execute_result"
    }
   ],
   "source": [
    "#  example 3\n",
    "\n",
    "topMatches(critics,\"Toby\",n=3)"
   ]
  },
  {
   "cell_type": "code",
   "execution_count": 25,
   "metadata": {},
   "outputs": [],
   "source": [
    "##  推荐物品\n",
    "##利用所有人的评价值的加权平均，为某人提供建议\n",
    "def get_Recomendations(prefs,person,similarity = sim_person):\n",
    "        totals = {}\n",
    "        simSums = {}\n",
    "        for other in prefs:\n",
    "            if other== person: continue\n",
    "            sim = similarity(prefs,person,other)\n",
    "            \n",
    "            #忽略评价值为零或者评价值小于0的情况\n",
    "            if sim <=0:continue\n",
    "            for item in prefs[other]:\n",
    "                #只对自己还未层看过的影片进行评价\n",
    "                if item not in prefs[person] or prefs[person][item] ==0:\n",
    "                    # 相似度*评价值\n",
    "                    totals.setdefault(item,0)\n",
    "                    totals[item] += prefs[other][item]*sim\n",
    "                    \n",
    "                    #相似度纸盒\n",
    "                    simSums.setdefault(item,0)\n",
    "                    simSums[item] +=sim\n",
    "                    \n",
    "        # 建立一个归一化列表\n",
    "        ranking = [(total/simSums[item],item) for item ,total in totals.items()]\n",
    "        \n",
    "        # 返回经过排序的列表\n",
    "        ranking.sort()\n",
    "        ranking.reverse()\n",
    "        return ranking\n",
    "    \n",
    "    "
   ]
  },
  {
   "cell_type": "code",
   "execution_count": 26,
   "metadata": {},
   "outputs": [
    {
     "data": {
      "text/plain": [
       "[(3.428458411028444, 'The Night Listener'),\n",
       " (2.7933690799738264, 'Lady in the Water'),\n",
       " (2.3873335774109146, 'Just My Luck')]"
      ]
     },
     "execution_count": 26,
     "metadata": {},
     "output_type": "execute_result"
    }
   ],
   "source": [
    "get_Recomendations(critics,'Toby')"
   ]
  },
  {
   "cell_type": "code",
   "execution_count": 27,
   "metadata": {
    "collapsed": true
   },
   "outputs": [],
   "source": [
    "#  匹配商品，想知道哪些商品是相近的\n",
    "# 定义一个转换函数\n",
    "def transformPrefs(prefs):\n",
    "    result = {}\n",
    "    for person in prefs:\n",
    "        for item in prefs[person]:\n",
    "            result.setdefault(item,{})\n",
    "            \n",
    "            # 将人和 电影调换位置\n",
    "            \n",
    "            result[item][person] = prefs[person][item]\n",
    "    return result\n"
   ]
  },
  {
   "cell_type": "code",
   "execution_count": 28,
   "metadata": {},
   "outputs": [
    {
     "data": {
      "text/plain": [
       "{'Just My Luck': {'Claudia Puig': 3.0,\n",
       "  'Gene Seymour': 1.5,\n",
       "  'Lisa Rose': 3.0,\n",
       "  'Mick LaSalle': 2.0},\n",
       " 'Lady in the Water': {'Gene Seymour': 3.0,\n",
       "  'Jack Matthews': 3.0,\n",
       "  'Lisa Rose': 2.5,\n",
       "  'Michael Phillips': 2.5,\n",
       "  'Mick LaSalle': 3.0},\n",
       " 'Snakes on a Plane': {'Claudia Puig': 3.5,\n",
       "  'Gene Seymour': 3.5,\n",
       "  'Jack Matthews': 4.0,\n",
       "  'Lisa Rose': 3.5,\n",
       "  'Michael Phillips': 3.0,\n",
       "  'Mick LaSalle': 4.0,\n",
       "  'Toby': 4.5},\n",
       " 'Superman Returns': {'Claudia Puig': 4.0,\n",
       "  'Gene Seymour': 5.0,\n",
       "  'Jack Matthews': 5.0,\n",
       "  'Lisa Rose': 3.5,\n",
       "  'Michael Phillips': 3.5,\n",
       "  'Mick LaSalle': 3.0,\n",
       "  'Toby': 4.0},\n",
       " 'The Night Listener': {'Claudia Puig': 4.5,\n",
       "  'Gene Seymour': 3.0,\n",
       "  'Jack Matthews': 3.0,\n",
       "  'Lisa Rose': 3.0,\n",
       "  'Michael Phillips': 4.0,\n",
       "  'Mick LaSalle': 3.0},\n",
       " 'You, Me and Dupree': {'Claudia Puig': 2.5,\n",
       "  'Gene Seymour': 3.5,\n",
       "  'Jack Matthews': 3.5,\n",
       "  'Lisa Rose': 2.5,\n",
       "  'Mick LaSalle': 2.0,\n",
       "  'Toby': 1.0}}"
      ]
     },
     "execution_count": 28,
     "metadata": {},
     "output_type": "execute_result"
    }
   ],
   "source": [
    "transformPrefs(prefs=critics)"
   ]
  },
  {
   "cell_type": "code",
   "execution_count": 29,
   "metadata": {},
   "outputs": [
    {
     "data": {
      "text/plain": [
       "[(0.9168523371635587, 'Lady in the Water'),\n",
       " (0.8012590586407953, 'Just My Luck'),\n",
       " (0.6579516949597695, 'You, Me and Dupree'),\n",
       " (-0.1798471947990544, 'The Night Listener'),\n",
       " (-1.145412275435915, 'Snakes on a Plane')]"
      ]
     },
     "execution_count": 29,
     "metadata": {},
     "output_type": "execute_result"
    }
   ],
   "source": [
    "# example 4\n",
    "movies = transformPrefs(prefs=critics)\n",
    "topMatches(movies,\"Superman Returns\")"
   ]
  },
  {
   "cell_type": "code",
   "execution_count": 33,
   "metadata": {},
   "outputs": [
    {
     "data": {
      "text/plain": [
       "[(3.672716369447001, 'Jack Matthews'),\n",
       " (3.255718276986934, 'Michael Phillips'),\n",
       " (3.2301351799398117, 'Toby')]"
      ]
     },
     "execution_count": 33,
     "metadata": {},
     "output_type": "execute_result"
    }
   ],
   "source": [
    "# example 5 \n",
    "\n",
    "# 找到和 自己一起*电影的人\n",
    "\n",
    "get_Recomendations(movies,'Just My Luck')"
   ]
  },
  {
   "cell_type": "code",
   "execution_count": 34,
   "metadata": {
    "collapsed": true
   },
   "outputs": [],
   "source": [
    "#  物品过滤\n",
    "# 构造物品比较的数据集\n",
    "\n",
    "def calculateSimilarItems(prefs,n=10):\n",
    "    # 建立字典，以给出与这些电影最为相近的所有其他物品\n",
    "    result = {}\n",
    "    # 以电影为中心对些偏好实施倒置处理\n",
    "    itemPrefs = transformPrefs(prefs)\n",
    "    \n",
    "    c = 0\n",
    "    for item in itemPrefs:\n",
    "        #针对大数据集更新状态变量\n",
    "        c +=1\n",
    "        if c%100 ==0: \n",
    "            print(\" %d/%d \" % (c,len(itemPrefs)))\n",
    "            \n",
    "        # 寻找最为相近的物品\n",
    "        scores = topMatches(itemPrefs,item,n =n,similarity=sim_distance)\n",
    "        result[item] = scores\n",
    "    return result\n",
    "\n"
   ]
  },
  {
   "cell_type": "code",
   "execution_count": 35,
   "metadata": {},
   "outputs": [
    {
     "data": {
      "text/plain": [
       "{'Just My Luck': [(0.3483314773547883, 'Lady in the Water'),\n",
       "  (0.32037724101704074, 'You, Me and Dupree'),\n",
       "  (0.2989350844248255, 'The Night Listener'),\n",
       "  (0.2553967929896867, 'Snakes on a Plane'),\n",
       "  (0.20799159651347807, 'Superman Returns')],\n",
       " 'Lady in the Water': [(0.4494897427831781, 'You, Me and Dupree'),\n",
       "  (0.38742588672279304, 'The Night Listener'),\n",
       "  (0.3483314773547883, 'Snakes on a Plane'),\n",
       "  (0.3483314773547883, 'Just My Luck'),\n",
       "  (0.2402530733520421, 'Superman Returns')],\n",
       " 'Snakes on a Plane': [(0.3483314773547883, 'Lady in the Water'),\n",
       "  (0.32037724101704074, 'The Night Listener'),\n",
       "  (0.3090169943749474, 'Superman Returns'),\n",
       "  (0.2553967929896867, 'Just My Luck'),\n",
       "  (0.1886378647726465, 'You, Me and Dupree')],\n",
       " 'Superman Returns': [(0.3090169943749474, 'Snakes on a Plane'),\n",
       "  (0.252650308587072, 'The Night Listener'),\n",
       "  (0.2402530733520421, 'Lady in the Water'),\n",
       "  (0.20799159651347807, 'Just My Luck'),\n",
       "  (0.1918253663634734, 'You, Me and Dupree')],\n",
       " 'The Night Listener': [(0.38742588672279304, 'Lady in the Water'),\n",
       "  (0.32037724101704074, 'Snakes on a Plane'),\n",
       "  (0.2989350844248255, 'Just My Luck'),\n",
       "  (0.29429805508554946, 'You, Me and Dupree'),\n",
       "  (0.252650308587072, 'Superman Returns')],\n",
       " 'You, Me and Dupree': [(0.4494897427831781, 'Lady in the Water'),\n",
       "  (0.32037724101704074, 'Just My Luck'),\n",
       "  (0.29429805508554946, 'The Night Listener'),\n",
       "  (0.1918253663634734, 'Superman Returns'),\n",
       "  (0.1886378647726465, 'Snakes on a Plane')]}"
      ]
     },
     "execution_count": 35,
     "metadata": {},
     "output_type": "execute_result"
    }
   ],
   "source": [
    "calculateSimilarItems(critics)"
   ]
  },
  {
   "cell_type": "code",
   "execution_count": 38,
   "metadata": {
    "collapsed": true
   },
   "outputs": [],
   "source": [
    "itemsim = calculateSimilarItems(critics)"
   ]
  },
  {
   "cell_type": "code",
   "execution_count": 39,
   "metadata": {
    "collapsed": true
   },
   "outputs": [],
   "source": [
    "# 获得推荐\n",
    "\n",
    "def get_RecommendedItems(prefs,itemMatch,user):\n",
    "    userRatings = prefs[user]\n",
    "    scores = {}\n",
    "    totalSim = {}\n",
    "    # 循环遍历当前用户评分的物品\n",
    "    for (item,rating) in userRatings.items():\n",
    "        \n",
    "        #循环遍历与当前物品相似的物品\n",
    "        for ( similarity ,item2) in itemMatch[item]:\n",
    "            \n",
    "            # 如果该用户已对当前的电影做过评价，则将其忽略\n",
    "            if item2 in userRatings:continue\n",
    "            #评价值与相似度的加权之和\n",
    "            scores.setdefault(item2,0)\n",
    "            scores[item2] += similarity*rating\n",
    "            \n",
    "            # 全部相似度之和\n",
    "            totalSim.setdefault(item2,0)\n",
    "            \n",
    "            totalSim[item2] += similarity\n",
    "    #将每个合计值 除以加权和，求出平均值\n",
    "    ranking = [(score/totalSim[item],item) for item,score in scores.items()]\n",
    "    \n",
    "    # 按最高值到最低值排序，返回评分结果\n",
    "    ranking.sort()\n",
    "    ranking.reverse()\n",
    "    return ranking\n",
    "            "
   ]
  },
  {
   "cell_type": "code",
   "execution_count": 40,
   "metadata": {},
   "outputs": [
    {
     "data": {
      "text/plain": [
       "[(3.1667425234070894, 'The Night Listener'),\n",
       " (2.9366294028444346, 'Just My Luck'),\n",
       " (2.868767392626467, 'Lady in the Water')]"
      ]
     },
     "execution_count": 40,
     "metadata": {},
     "output_type": "execute_result"
    }
   ],
   "source": [
    "get_RecommendedItems(critics,itemsim,'Toby')"
   ]
  },
  {
   "cell_type": "code",
   "execution_count": 41,
   "metadata": {},
   "outputs": [
    {
     "data": {
      "text/plain": [
       "[]"
      ]
     },
     "execution_count": 41,
     "metadata": {},
     "output_type": "execute_result"
    }
   ],
   "source": [
    "\n"
   ]
  },
  {
   "cell_type": "code",
   "execution_count": 42,
   "metadata": {},
   "outputs": [
    {
     "data": {
      "text/plain": [
       "[(3.5810970647618663, 'Just My Luck')]"
      ]
     },
     "execution_count": 42,
     "metadata": {},
     "output_type": "execute_result"
    }
   ],
   "source": [
    "\n",
    "get_RecommendedItems(critics,itemsim,'Jack Matthews')"
   ]
  },
  {
   "cell_type": "code",
   "execution_count": null,
   "metadata": {
    "collapsed": true
   },
   "outputs": [],
   "source": []
  }
 ],
 "metadata": {
  "kernelspec": {
   "display_name": "Python 3",
   "language": "python",
   "name": "python3"
  },
  "language_info": {
   "codemirror_mode": {
    "name": "ipython",
    "version": 3
   },
   "file_extension": ".py",
   "mimetype": "text/x-python",
   "name": "python",
   "nbconvert_exporter": "python",
   "pygments_lexer": "ipython3",
   "version": "3.6.1"
  }
 },
 "nbformat": 4,
 "nbformat_minor": 2
}
